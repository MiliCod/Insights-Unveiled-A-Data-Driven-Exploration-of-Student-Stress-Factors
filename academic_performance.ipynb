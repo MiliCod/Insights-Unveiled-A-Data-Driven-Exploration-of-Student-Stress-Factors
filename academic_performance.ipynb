{
 "cells": [
  {
   "cell_type": "code",
   "execution_count": null,
   "id": "fb839b3e-2a25-451d-8ba9-55f04fc3ce20",
   "metadata": {},
   "outputs": [],
   "source": [
    "# Import necessary packages\n",
    "import pandas as pd\n",
    "import numpy as np\n",
    "\n",
    "# Visualization packages\n",
    "import seaborn as sns\n",
    "import matplotlib.pyplot as plt\n",
    "\n",
    "# Data preparation packages\n",
    "from sklearn.preprocessing import StandardScaler\n",
    "\n",
    "# Clustering packages\n",
    "from sklearn.cluster import KMeans\n",
    "from sklearn.decomposition import PCA\n",
    "\n"
   ]
  },
  {
   "cell_type": "code",
   "execution_count": null,
   "id": "32de4301-da32-48f3-b3e5-3c4e59a1d718",
   "metadata": {},
   "outputs": [],
   "source": [
    "#import data\n",
    "file_path = \"C:\\\\Users\\\\vivie\\\\Downloads\\\\StressLevelDataset.csv\"\n",
    "df=pd.read_csv(file_path)\n",
    "df.head()"
   ]
  },
  {
   "cell_type": "code",
   "execution_count": null,
   "id": "e69964f5-ae6c-4312-ac25-160a0fab94a8",
   "metadata": {},
   "outputs": [],
   "source": [
    "parametre1='academic_performance'\n",
    "parametre2=\"study_load\"\n",
    "parametre3='teacher_student_relationship'\n",
    "parametre4='future_career_concerns'\n",
    "dfa=df[[parametre1,parametre2,parametre3,parametre4]]\n",
    "dfa\n",
    "\n"
   ]
  },
  {
   "cell_type": "code",
   "execution_count": null,
   "id": "847c3a48-49e4-4e91-a978-1bf088c61d11",
   "metadata": {},
   "outputs": [],
   "source": [
    "#center and reduce our data\n",
    "scaler = StandardScaler()\n",
    "x_scaled = scaler.fit_transform(dfa)\n",
    "x_scaled"
   ]
  },
  {
   "cell_type": "code",
   "execution_count": null,
   "id": "5475ec1b-1e6f-4986-b43f-68363709fe2d",
   "metadata": {},
   "outputs": [],
   "source": [
    "wcss = []\n",
    "for i in range(1, 11):\n",
    "    kmeans = KMeans(n_clusters = i, init = 'k-means++')\n",
    "    kmeans.fit(x_scaled)\n",
    "    wcss.append(kmeans.inertia_)\n",
    "    \n",
    "wcss"
   ]
  },
  {
   "cell_type": "code",
   "execution_count": null,
   "id": "18106ef5-7aa7-4ae6-b331-25c77838eebd",
   "metadata": {},
   "outputs": [],
   "source": [
    "plt.plot(range(1, 11), wcss)\n",
    "plt.title('the elbow method to determine the number of clusters')\n",
    "plt.xlabel('number of clusters')\n",
    "plt.ylabel('WCSS')\n",
    "plt.show()"
   ]
  },
  {
   "cell_type": "code",
   "execution_count": null,
   "id": "fe9f04d4-6811-4182-ba28-b0237b818506",
   "metadata": {},
   "outputs": [],
   "source": [
    "kmeans_etats = KMeans(n_clusters=3, init = 'k-means++')\n"
   ]
  },
  {
   "cell_type": "code",
   "execution_count": null,
   "id": "01a0e6e0-69e6-4292-bf0b-a19ab1471003",
   "metadata": {},
   "outputs": [],
   "source": [
    "kmeans_etats.fit(x_scaled)\n"
   ]
  },
  {
   "cell_type": "code",
   "execution_count": null,
   "id": "2e7e7a93-5146-429a-b654-02da1bd2c74b",
   "metadata": {},
   "outputs": [],
   "source": [
    "clusters = kmeans_etats.predict(x_scaled)\n"
   ]
  },
  {
   "cell_type": "code",
   "execution_count": null,
   "id": "4ea13372-3965-4a69-8417-47a5da409918",
   "metadata": {},
   "outputs": [],
   "source": [
    "dfa['cluster']=clusters\n",
    "dfa"
   ]
  },
  {
   "cell_type": "code",
   "execution_count": null,
   "id": "43af8da7-b681-4fff-bb2d-62e90ce7e070",
   "metadata": {},
   "outputs": [],
   "source": [
    "dfa_clusters = dfa.groupby(['cluster']).median().round(0)  \n",
    "dfa_clusters"
   ]
  },
  {
   "cell_type": "code",
   "execution_count": null,
   "id": "49fdaf64-93f8-4855-85c6-2ad037380f9d",
   "metadata": {},
   "outputs": [],
   "source": [
    "for i in range(4):\n",
    "    print(f'Cluster {i}')\n",
    "    print(dfa[dfa.cluster == i].index.tolist())\n",
    "    print()"
   ]
  },
  {
   "cell_type": "code",
   "execution_count": null,
   "id": "2f5c7569-9966-4277-b467-b1dc00ecb654",
   "metadata": {},
   "outputs": [],
   "source": [
    "# Assuming max_values contains the maximum values for each column in dfa\n",
    "max_values = dfa[[parametre1, parametre2, parametre3,parametre4]].max()\n",
    "\n",
    "\n",
    "\n",
    "\n",
    "# Assuming target_columns is the list ['parametre1', 'parametre2', 'parametre3', 'parametre4']\n",
    "values = {}\n",
    "for column in dfa_clusters:\n",
    "    try:\n",
    "        user_input = float(input(f'Give a score between 1 and 10 for your level of {column}: '))\n",
    "        if 0 <= user_input <= 10:\n",
    "            values[column] = user_input  # Store the valid input in the dictionary\n",
    "        else:\n",
    "            print(\"Value must be between 1 and 10. Please try again.\")\n",
    "    except ValueError:\n",
    "        print(\"Invalid input. Please enter a numeric value.\")\n",
    "\n",
    "        \n",
    "        \n",
    "# Calculate scaled values\n",
    "scaled_values = {}\n",
    "for column in dfa_clusters:\n",
    "    scaled_value = (values[column])\n",
    "    scaled_values[column] = scaled_value\n",
    "\n",
    "# Now 'scaled_values' dictionary contains the scaled values for each column\n",
    "print(scaled_values)\n"
   ]
  },
  {
   "cell_type": "code",
   "execution_count": null,
   "id": "714aac3d-24f4-4f08-a7b9-8e979852cbc2",
   "metadata": {},
   "outputs": [],
   "source": [
    "# Create a DataFrame with user values\n",
    "user_df = pd.DataFrame([scaled_values]) / 10\n",
    "#print(user_df)\n",
    "\n",
    "# Normalize each criterion of reference clusters in the same way\n",
    "dfa_clusters_normalized = dfa_clusters / max_values\n",
    "#print(dfa_clusters_normalized)\n",
    "\n",
    "# Calculate the Euclidean distance between normalized values and cluster centers\n",
    "distances = np.linalg.norm(user_df.values - dfa_clusters_normalized.values[:, :4], axis=1)\n",
    "#print(distances)\n",
    "\n",
    "# Find the index of the closest cluster\n",
    "closest_cluster_index = np.argmin(distances)\n",
    "#print(closest_cluster_index)\n",
    "\n",
    "# Retrieve the cluster number\n",
    "predicted_cluster = dfa_clusters_normalized.index[closest_cluster_index]\n",
    "\n",
    "print(f\"The normalized user values are closest to Cluster {predicted_cluster}\")\n",
    "\n",
    "# Calculate reliability based on the inverse of the distance\n",
    "reliability = 1 / (1 + distances[closest_cluster_index])\n",
    "\n",
    "# Display reliability\n",
    "print(f\"Reliability of the result: {reliability * 100}%\")\n"
   ]
  },
  {
   "cell_type": "code",
   "execution_count": null,
   "id": "b49928b6-7b20-4d30-ae97-bb3f45018399",
   "metadata": {},
   "outputs": [],
   "source": [
    "text1 = \"\"\"\n",
    "+------------------------------------------------------------------+\n",
    "| Your academic excellence does not seem to be the result of an    |\n",
    "| unbearable study load. It may be beneficial to further explore   |\n",
    "| career opportunities, gain advice, and establish long-term goals.|\n",
    "| A balance between academic excellence and career planning can    |\n",
    "| support a smoother transition into the professional world and    |\n",
    "| help alleviate the pressures of future uncertainty, often        |\n",
    "| associated with student stress.                                  |\n",
    "|                                                                  |\n",
    "| Bottom line: Your current academic performance and effective     |\n",
    "| management of the study load do not appear to be a current       |\n",
    "| source of stress. However, it is crucial to recognize that       |\n",
    "| planning for your future career can be an important aspect of    |\n",
    "| avoiding future concerns and stress. For this, you can turn to   |\n",
    "| your teachers because you have good relationships with them,     |\n",
    "| and seeking their advice will not represent an unnatural or      |\n",
    "| discomforting gesture for you.                                   |\n",
    "+------------------------------------------------------------------+\n",
    "\"\"\"\n"
   ]
  },
  {
   "cell_type": "code",
   "execution_count": null,
   "id": "8f5d2af2-86f6-4777-9f1a-6fc42a084c83",
   "metadata": {},
   "outputs": [],
   "source": [
    "text2 = \"\"\"\n",
    "+----------------------------------------------------------------+\n",
    "| You demonstrate intense academic commitment and a strong       |\n",
    "| interest in your future career. However, your academic         |\n",
    "| performance does not meet your expectations, and tensions      |\n",
    "| with your teachers reveal challenges. This situation can be a  |\n",
    "| source of stress, stemming from the pressure to excel and      |\n",
    "| relationship difficulties.                                     |\n",
    "|                                                                |\n",
    "| Bottom line: Your academic results and tensions with your      |\n",
    "| teachers are potential factors of stress. Self-imposed academic|\n",
    "| success can create significant pressure, combined with results |\n",
    "| that you consider average. Difficult relationships also        |\n",
    "| contribute to a stressful everyday atmosphere. Developing time |\n",
    "| management skills can optimize academic work and reduce        |\n",
    "| deadline stress. If having a conversation with a professor     |\n",
    "| seems difficult, find family members or others with whom you   |\n",
    "| can discuss work time management for the best results. Your    |\n",
    "| academic commitment can be a source of stress because you      |\n",
    "| worry about the situation, but the results do not meet your    |\n",
    "| expectations. It is essential to find someone to share these   |\n",
    "| concerns with.                                                 |\n",
    "+----------------------------------------------------------------+\n",
    "\"\"\"\n"
   ]
  },
  {
   "cell_type": "code",
   "execution_count": null,
   "id": "3e027c06-cc8a-4b64-b0b6-2eacc40f2ccb",
   "metadata": {},
   "outputs": [],
   "source": [
    "text3 = \"\"\"\n",
    "+-----------------------------------------------------------------+\n",
    "| You demonstrate average academic performance and rapport with   |\n",
    "| your teachers, and although you have little investment in your  |\n",
    "| professional future, your workload is also limited. This        |\n",
    "| combination can influence your overall experience, as average   |\n",
    "| results and limited investment in your professional future can  |\n",
    "| be sources of future stress even if not today.                  |\n",
    "|                                                                 |\n",
    "| Conclusion: Your academic results and the relationship with     |\n",
    "| your teachers can generate stress. The absence of significant   |\n",
    "| commitment to your professional future and a limited workload   |\n",
    "| accentuate these sources of stress. Explore your professional   |\n",
    "| interests, get more involved, and set clear goals to alleviate  |\n",
    "| this stress. Improving communication with your teachers can     |\n",
    "| also promote a more positive school experience. By balancing    |\n",
    "| educational investment and career planning, you can reduce the  |\n",
    "| stress associated with these areas.                             |\n",
    "+-----------------------------------------------------------------+\n",
    "\"\"\"\n"
   ]
  },
  {
   "cell_type": "code",
   "execution_count": null,
   "id": "3b1d8617-a517-4388-be8d-d4f0b8739b61",
   "metadata": {},
   "outputs": [],
   "source": [
    "# Retrieve the values of anxiety_level, self_esteem, and depression for the predicted cluster\n",
    "predicted_values = dfa_clusters.loc[predicted_cluster, [parametre1, parametre2, parametre3, parametre4]]\n",
    "\n",
    "\n",
    "if predicted_values[parametre1] == 5.0 and predicted_values[parametre2] == 1.0 and predicted_values[parametre3] == 4.0 and predicted_values[parametre4] == 1.0:\n",
    "    print(text1)\n",
    "    \n",
    "if predicted_values[parametre1] == 2.0 and predicted_values[parametre2] == 4.0 and predicted_values[parametre3] == 1.0 and predicted_values[parametre4] == 4.0:\n",
    "    print(text2)\n",
    "    \n",
    "if predicted_values[parametre1] == 2.0 and predicted_values[parametre2] == 2.0 and predicted_values[parametre3] == 2.0 and predicted_values[parametre4] == 2.0:\n",
    "    print(text3)\n",
    "    \n",
    "\n"
   ]
  },
  {
   "cell_type": "code",
   "execution_count": null,
   "id": "ba9548bd-5d79-405f-91dd-17cb5f858103",
   "metadata": {},
   "outputs": [],
   "source": []
  },
  {
   "cell_type": "code",
   "execution_count": null,
   "id": "2e9c9ce4-339a-44a3-90f0-1855dced5b65",
   "metadata": {},
   "outputs": [],
   "source": []
  }
 ],
 "metadata": {
  "kernelspec": {
   "display_name": "Python 3 (ipykernel)",
   "language": "python",
   "name": "python3"
  },
  "language_info": {
   "codemirror_mode": {
    "name": "ipython",
    "version": 3
   },
   "file_extension": ".py",
   "mimetype": "text/x-python",
   "name": "python",
   "nbconvert_exporter": "python",
   "pygments_lexer": "ipython3",
   "version": "3.9.13"
  }
 },
 "nbformat": 4,
 "nbformat_minor": 5
}
